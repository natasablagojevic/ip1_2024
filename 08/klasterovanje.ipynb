{
 "cells": [
  {
   "cell_type": "markdown",
   "metadata": {},
   "source": [
    "# Klasterovanje\n",
    "\n",
    "- razlicite iz svih drugih grupa, a medjusobno slicne u jednoj grupi \n",
    "\n",
    "## K sredina \n",
    "- svaki klaster predstavljas jednom klasom koja je centroid \n",
    "- centroide nalazim tako sto, prvo pp koliko imam klastera i lupim pocetne centroide\n",
    "- dok nije ispunjen kriterijum zaustavljanja, radimo sledece:\n",
    "    - za svaku tacku racunamo rastojanje od svakog centroida \n",
    "    - napravi nove centroide - centar klastera koje smo napravili \n",
    "    - "
   ]
  },
  {
   "cell_type": "code",
   "execution_count": 2,
   "metadata": {},
   "outputs": [],
   "source": [
    "import pandas as pd"
   ]
  },
  {
   "cell_type": "code",
   "execution_count": null,
   "metadata": {},
   "outputs": [],
   "source": []
  }
 ],
 "metadata": {
  "kernelspec": {
   "display_name": "Python 3 (ipykernel)",
   "language": "python",
   "name": "python3"
  },
  "language_info": {
   "codemirror_mode": {
    "name": "ipython",
    "version": 3
   },
   "file_extension": ".py",
   "mimetype": "text/x-python",
   "name": "python",
   "nbconvert_exporter": "python",
   "pygments_lexer": "ipython3",
   "version": "3.10.13"
  }
 },
 "nbformat": 4,
 "nbformat_minor": 2
}
