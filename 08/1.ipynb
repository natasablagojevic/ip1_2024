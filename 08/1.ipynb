{
 "cells": [
  {
   "cell_type": "code",
   "execution_count": 2,
   "metadata": {},
   "outputs": [],
   "source": [
    "import pandas as pd"
   ]
  },
  {
   "cell_type": "code",
   "execution_count": null,
   "metadata": {},
   "outputs": [],
   "source": []
  },
  {
   "cell_type": "markdown",
   "metadata": {},
   "source": [
    "### Over sampler \n",
    "- imamo manjinske i vecinske klase \n",
    "- manjinsku klasu uzorkuj sa ponavljanjem \n",
    "- lose: koliko je nas model dobro naucio? (koliko si zapravo naucio ot toga sto si ponavljao podatke?)\n",
    "    - imas mnogo veci skup ---> trening???? \n",
    "    \n",
    "### Random under sampler\n",
    "- od velikog uzorkujes toliko koliko imas u malom \n",
    "- dobro: smanjili smo skup, bice brzi trening (brzo cemo videti da nista ne radi)\n",
    "- lose: gubljenje informacija (bacili smo veliki deo informacija)\n",
    "- da li moramo da dobijemo 1:1?\n",
    "    - sto je veci disbalans ima smisla raditi model\n",
    "    "
   ]
  },
  {
   "cell_type": "markdown",
   "metadata": {},
   "source": [
    "### SMOTE \n",
    "- pravimo nove tacke, kod vec postojecih \n",
    "- dobro: nema dupliranja informacija, vec se stvaraju nove (interpolacija)\n",
    "- lose: ako imamo neku plavu tacku kod crvenih ---> izmisljamo ih tamo gde ne postoje\n",
    "\n",
    "### ENN \n",
    "- pogledaj K najblizih suseda za svaku tacku \n",
    "- "
   ]
  },
  {
   "cell_type": "code",
   "execution_count": 4,
   "metadata": {},
   "outputs": [
    {
     "ename": "ModuleNotFoundError",
     "evalue": "No module named 'imblearn'",
     "output_type": "error",
     "traceback": [
      "\u001b[0;31m---------------------------------------------------------------------------\u001b[0m",
      "\u001b[0;31mModuleNotFoundError\u001b[0m                       Traceback (most recent call last)",
      "Cell \u001b[0;32mIn[4], line 1\u001b[0m\n\u001b[0;32m----> 1\u001b[0m \u001b[38;5;28;01mfrom\u001b[39;00m \u001b[38;5;21;01mimblearn\u001b[39;00m\u001b[38;5;21;01m.\u001b[39;00m\u001b[38;5;21;01mover_sampling\u001b[39;00m \u001b[38;5;28;01mimport\u001b[39;00m RandomOverSampler\n\u001b[1;32m      2\u001b[0m ros \u001b[38;5;241m=\u001b[39m RandomOverSampler(sampling_strategy\u001b[38;5;241m=\u001b[39m\u001b[38;5;124m'\u001b[39m\u001b[38;5;124mminority\u001b[39m\u001b[38;5;124m'\u001b[39m)\n",
      "\u001b[0;31mModuleNotFoundError\u001b[0m: No module named 'imblearn'"
     ]
    }
   ],
   "source": [
    "from imblearn.over_sampling import RandomOverSampler\n",
    "ros = RandomOverSampler(sampling_strategy='minority')\n"
   ]
  },
  {
   "cell_type": "code",
   "execution_count": null,
   "metadata": {},
   "outputs": [],
   "source": []
  }
 ],
 "metadata": {
  "kernelspec": {
   "display_name": "Python 3 (ipykernel)",
   "language": "python",
   "name": "python3"
  },
  "language_info": {
   "codemirror_mode": {
    "name": "ipython",
    "version": 3
   },
   "file_extension": ".py",
   "mimetype": "text/x-python",
   "name": "python",
   "nbconvert_exporter": "python",
   "pygments_lexer": "ipython3",
   "version": "3.10.13"
  }
 },
 "nbformat": 4,
 "nbformat_minor": 2
}
