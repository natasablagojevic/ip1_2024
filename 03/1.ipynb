{
 "cells": [
  {
   "cell_type": "markdown",
   "metadata": {},
   "source": [
    "# KLASIFIKACIJA\n",
    "\n",
    "- stvrstavanje instance u neku kategoriju odnosno klasu \n",
    "\n",
    "\n",
    "```\n",
    "        X           Y\n",
    "|----------------|----|\n",
    "|                |    |\n",
    "|                |    |\n",
    "|                |    |\n",
    "\n",
    "\n",
    "```\n",
    "\n",
    "- obucavamo model da moze da predvidi kojoj klasi neki slog pripada kojoj klasi \n",
    "\n",
    "- imamo novu instancu o kojo ne znamo nista, i na osnovu nje zelim da predvidim kojoj klasi ce da pripada\n",
    "- na osnovu podataka iz X hocu da naucim neke principe po kojoj cu klasifikovati svaku novu narednu instancu \n",
    "- kako da procenim da mi je model dobar?\n",
    "    - ako je tacan odgovor +1, ako je netacan odgovor onda nista, pa saberem te vrednosti => **accuracy = (broj_tacno_predvidjenih)/(ukupan_broj_instanci)**\n",
    "    \n",
    "\n",
    "- podatke **X** i **Y** delimo na dva dela: **TRENING** i **TEST**\n",
    "    - **TRENING** - na osnovu koga se pravi model\n",
    "        - podesavamo model\n",
    "    - **TEST** - podaci na osnovu koga testiram model da li je dobar, da li dobro generalizuje odnosno da li dobro radi sa podacima koje nikada nije video\n",
    "        - gledamo koliko dobro model radi \n",
    "\n",
    "\n",
    "## DRVETA ODLUCIVANJA \n",
    "- donosimo odluku na osnovu vrednosti nekih atributa \n",
    "\n",
    "```\n",
    "              age < 30 \n",
    "        / yes           \\ no\n",
    "\n",
    "    eat pizza?            exercises \n",
    "\n",
    "   / yes     \\ no       / yes    \\ no\n",
    "\n",
    "UNFIT         FIT      FIT        UNFIT\n",
    "\n",
    "```\n",
    "\n",
    "- na osnovu kog atributa cu ici kroz stablo nam govori **MERA NECISTOCE**\n",
    "\n",
    "- hocu da na donosenju odluke budem 100% siguran \n",
    "\n",
    "- "
   ]
  },
  {
   "cell_type": "code",
   "execution_count": null,
   "metadata": {},
   "outputs": [],
   "source": [
    "import pandas as pd"
   ]
  }
 ],
 "metadata": {
  "language_info": {
   "name": "python"
  }
 },
 "nbformat": 4,
 "nbformat_minor": 2
}
