{
 "cells": [
  {
   "cell_type": "code",
   "execution_count": 3,
   "metadata": {},
   "outputs": [],
   "source": [
    "import pandas as pd\n",
    "import numpy as np\n",
    "from matplotlib.py"
   ]
  },
  {
   "cell_type": "code",
   "execution_count": null,
   "metadata": {},
   "outputs": [],
   "source": []
  },
  {
   "cell_type": "markdown",
   "metadata": {},
   "source": [
    "P(X)\n",
    "P(X, y)\n",
    "P(X|y) = P(X,y)/P(y)\n",
    "\n",
    "\n",
    "#### Naivni Bajes\n",
    "\n",
    "P(y|X) = P(X,y)/P(X) = (P(X|y)*P(y))/P(X) = $\\frac{\\prod_{i=1}^{n}P(X_i|y) * P(y)}{P(X)}$\n",
    "\n",
    "PP. $X_i$ uslovno nezavnisni\n",
    "\n",
    "1. nezavisni => P(X1, X2) = P(X1)*P(X2)\n",
    "2. uslovna nezavisnost => P(X1,X2|y) = P(X1|y) * P(X2|y)\n",
    "#### Predvidjena klasa\n",
    "P(jeste|x)=0.9 //mozemo zakljuciti da je veca vrv da jeste nego da nije, tako da uvodimo predvidjenu klasu y^=0.9\n",
    "P(nije|x)=0.1\n",
    "\n",
    "y_pred = arg max_y P(y|X) = argmax_y $\\prod_{i=1}^{n} P(X_i|y)*P(y)$"
   ]
  }
 ],
 "metadata": {
  "kernelspec": {
   "display_name": "Python 3 (ipykernel)",
   "language": "python",
   "name": "python3"
  },
  "language_info": {
   "codemirror_mode": {
    "name": "ipython",
    "version": 3
   },
   "file_extension": ".py",
   "mimetype": "text/x-python",
   "name": "python",
   "nbconvert_exporter": "python",
   "pygments_lexer": "ipython3",
   "version": "3.10.13"
  }
 },
 "nbformat": 4,
 "nbformat_minor": 2
}
