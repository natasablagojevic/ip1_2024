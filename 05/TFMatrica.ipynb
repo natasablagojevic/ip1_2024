{
  "nbformat": 4,
  "nbformat_minor": 0,
  "metadata": {
    "colab": {
      "provenance": []
    },
    "kernelspec": {
      "name": "python3",
      "display_name": "Python 3"
    },
    "language_info": {
      "name": "python"
    }
  },
  "cells": [
    {
      "cell_type": "code",
      "execution_count": null,
      "metadata": {
        "id": "SwiYP4Z1MAPr"
      },
      "outputs": [],
      "source": [
        "import pandas as pd\n",
        "import os"
      ]
    },
    {
      "cell_type": "code",
      "source": [],
      "metadata": {
        "id": "8wg9w6Q7M8xL"
      },
      "execution_count": null,
      "outputs": []
    },
    {
      "cell_type": "markdown",
      "source": [
        "P(sunce izlazi sutra) = $\\frac{n+1}{n+2}$\n",
        "- smoothing\n",
        "\n",
        "#### TF MATRICA\n",
        "- rec = kolone\n",
        "- dokumenti = vrste  \n",
        "\n",
        "<br>\n",
        "\n",
        "- stop reci (stopwords) = veznici koji se javljaju svuda\n",
        "  - jer ne donose nikakvu informaciju\n",
        "  - npr: i, a, da, ne ..."
      ],
      "metadata": {
        "id": "tF2Xxt6vNDoC"
      }
    },
    {
      "cell_type": "code",
      "source": [
        "def read_data(dir_path: str):\n",
        "  corpus = []\n",
        "  classes = []\n",
        "  for class_name in os.listdir(dir_path):\n",
        "    # print(class_name)\n",
        "    subdir_path = os.path.join(dir_path, class_name)\n",
        "    for file_name in sorted(os.listdir(subdir_path)):\n",
        "      file_path = os.path.join(subdir_path, file_name)\n",
        "      word_counts = {}\n",
        "      with open(file_path, 'r') as f:\n",
        "        for line in f:\n",
        "          word, count = line.split()\n",
        "          word_counts[word] = count\n",
        "      corpus.append(word_counts)\n",
        "      classes.append(class_name)\n",
        "\n",
        "  return corpus"
      ],
      "metadata": {
        "id": "kdIZKJJiN2WY"
      },
      "execution_count": null,
      "outputs": []
    },
    {
      "cell_type": "code",
      "source": [
        "from sklearn.naive_bayes import MultinomialNB"
      ],
      "metadata": {
        "id": "ZXrMRri9QRxx"
      },
      "execution_count": null,
      "outputs": []
    },
    {
      "cell_type": "code",
      "source": [
        "model = MultinomialNB()"
      ],
      "metadata": {
        "id": "Gfa9MXURQu8E"
      },
      "execution_count": null,
      "outputs": []
    },
    {
      "cell_type": "code",
      "source": [
        "X_train, y_train = read_data()"
      ],
      "metadata": {
        "colab": {
          "base_uri": "https://localhost:8080/",
          "height": 141
        },
        "id": "EX1DvkaJQ-PY",
        "outputId": "6992169a-af85-4eff-bf44-d5b006f790db"
      },
      "execution_count": null,
      "outputs": [
        {
          "output_type": "error",
          "ename": "TypeError",
          "evalue": "read_data() missing 1 required positional argument: 'dir_path'",
          "traceback": [
            "\u001b[0;31m---------------------------------------------------------------------------\u001b[0m",
            "\u001b[0;31mTypeError\u001b[0m                                 Traceback (most recent call last)",
            "\u001b[0;32m<ipython-input-14-10aea0818c10>\u001b[0m in \u001b[0;36m<cell line: 1>\u001b[0;34m()\u001b[0m\n\u001b[0;32m----> 1\u001b[0;31m \u001b[0mX_train\u001b[0m\u001b[0;34m,\u001b[0m \u001b[0my_train\u001b[0m \u001b[0;34m=\u001b[0m \u001b[0mread_data\u001b[0m\u001b[0;34m(\u001b[0m\u001b[0;34m)\u001b[0m\u001b[0;34m\u001b[0m\u001b[0;34m\u001b[0m\u001b[0m\n\u001b[0m",
            "\u001b[0;31mTypeError\u001b[0m: read_data() missing 1 required positional argument: 'dir_path'"
          ]
        }
      ]
    },
    {
      "cell_type": "code",
      "source": [
        "from sklearn.feature_extraction import DictVectorizer"
      ],
      "metadata": {
        "id": "rHSTzu9LRCUh"
      },
      "execution_count": null,
      "outputs": []
    },
    {
      "cell_type": "code",
      "source": [
        "dv = DictVectorizer()\n",
        "dv.fit(X_train)"
      ],
      "metadata": {
        "id": "W9LzA2jXRKud"
      },
      "execution_count": null,
      "outputs": []
    },
    {
      "cell_type": "code",
      "source": [
        "dv.feature_names_"
      ],
      "metadata": {
        "id": "Oh7n2eWHRak6"
      },
      "execution_count": null,
      "outputs": []
    },
    {
      "cell_type": "code",
      "source": [
        "X_train = dv.transform(X_train)"
      ],
      "metadata": {
        "id": "6cqHFteFRjy_"
      },
      "execution_count": null,
      "outputs": []
    },
    {
      "cell_type": "code",
      "source": [
        "X_train = X_train.toarray().shape"
      ],
      "metadata": {
        "id": "8-vFgv30R3cK"
      },
      "execution_count": null,
      "outputs": []
    },
    {
      "cell_type": "code",
      "source": [],
      "metadata": {
        "id": "9o8FTZLeR6ft"
      },
      "execution_count": null,
      "outputs": []
    },
    {
      "cell_type": "code",
      "source": [
        "pd.DataFrame(X_train, columns=dv.feature_names_)"
      ],
      "metadata": {
        "id": "-uEGbseQRdf6"
      },
      "execution_count": null,
      "outputs": []
    },
    {
      "cell_type": "code",
      "source": [
        "model.fit(X_train, y_train)"
      ],
      "metadata": {
        "id": "baSkOgJ1Rudp"
      },
      "execution_count": null,
      "outputs": []
    },
    {
      "cell_type": "code",
      "source": [
        "y_train_pred = model.predict(X_train)"
      ],
      "metadata": {
        "id": "9bOgQJitSPUq"
      },
      "execution_count": null,
      "outputs": []
    },
    {
      "cell_type": "code",
      "source": [
        "from sklearn.metrics import accuracy_score, confusion_matrix"
      ],
      "metadata": {
        "id": "8n0N4u39STJt"
      },
      "execution_count": null,
      "outputs": []
    },
    {
      "cell_type": "code",
      "source": [
        "accuracy_score(y_train, y_train_pred)"
      ],
      "metadata": {
        "id": "nrXZRSaZSX4L"
      },
      "execution_count": null,
      "outputs": []
    },
    {
      "cell_type": "code",
      "source": [
        "confusion_matrix(y_train, y_train_pred)"
      ],
      "metadata": {
        "id": "0GhiJ_1QSbVd"
      },
      "execution_count": null,
      "outputs": []
    },
    {
      "cell_type": "code",
      "source": [
        "X_test, y_test = read_data(\"testing\")"
      ],
      "metadata": {
        "id": "waHwcRfhSkhd"
      },
      "execution_count": null,
      "outputs": []
    },
    {
      "cell_type": "code",
      "source": [
        "X_test = dv.transform(X_test)"
      ],
      "metadata": {
        "id": "TxbR-96sSo3t"
      },
      "execution_count": null,
      "outputs": []
    },
    {
      "cell_type": "code",
      "source": [
        "X_test = pd.DataFrame(X_test.toarray(), columns=dv.feature_names_)"
      ],
      "metadata": {
        "id": "uDsON8yvSsJ8"
      },
      "execution_count": null,
      "outputs": []
    },
    {
      "cell_type": "code",
      "source": [
        "y_pred = model.predict(X_test)"
      ],
      "metadata": {
        "id": "fofHxlIBS2Jq"
      },
      "execution_count": null,
      "outputs": []
    },
    {
      "cell_type": "code",
      "source": [
        "confusion_matrix(y_test, y_pred)"
      ],
      "metadata": {
        "id": "QVXvz5XbS959"
      },
      "execution_count": null,
      "outputs": []
    },
    {
      "cell_type": "code",
      "source": [
        "from sklearn.tree import DecisionTreeClassifier"
      ],
      "metadata": {
        "id": "qm_4ikEQTCOt"
      },
      "execution_count": null,
      "outputs": []
    },
    {
      "cell_type": "code",
      "source": [
        "model = DecisionTreeClassifier()"
      ],
      "metadata": {
        "id": "DfqmafYkTF78"
      },
      "execution_count": null,
      "outputs": []
    },
    {
      "cell_type": "code",
      "source": [
        "model.train(X_train, y_train)"
      ],
      "metadata": {
        "id": "HVGw9ryVTJF7"
      },
      "execution_count": null,
      "outputs": []
    },
    {
      "cell_type": "code",
      "source": [
        "y_pred = model.predict(X_test)"
      ],
      "metadata": {
        "id": "DC_HyOUeTL9c"
      },
      "execution_count": null,
      "outputs": []
    },
    {
      "cell_type": "code",
      "source": [
        "accuracy_score(y_test, y_pred)"
      ],
      "metadata": {
        "id": "pEKxhYYNTPwb"
      },
      "execution_count": null,
      "outputs": []
    },
    {
      "cell_type": "code",
      "source": [
        "from sklearn.neighbors import KNeighborsClassifier"
      ],
      "metadata": {
        "id": "WNAxpw6XTS18"
      },
      "execution_count": null,
      "outputs": []
    },
    {
      "cell_type": "code",
      "source": [
        "model = KNeighborsClassifier()"
      ],
      "metadata": {
        "id": "d3eCQL47TXVQ"
      },
      "execution_count": null,
      "outputs": []
    },
    {
      "cell_type": "code",
      "source": [
        "model.fit(X_train, y_train)"
      ],
      "metadata": {
        "id": "CuPyHa2STcHK"
      },
      "execution_count": null,
      "outputs": []
    },
    {
      "cell_type": "code",
      "source": [
        "y_pred = model.predict(X_test)"
      ],
      "metadata": {
        "id": "KoEQm5boTfe8"
      },
      "execution_count": null,
      "outputs": []
    },
    {
      "cell_type": "code",
      "source": [
        "accuracy_score(y_test, y_pred)"
      ],
      "metadata": {
        "id": "-hN1dILLTiEc"
      },
      "execution_count": null,
      "outputs": []
    },
    {
      "cell_type": "code",
      "source": [],
      "metadata": {
        "id": "b4CJO1EMTlC8"
      },
      "execution_count": null,
      "outputs": []
    }
  ]
}